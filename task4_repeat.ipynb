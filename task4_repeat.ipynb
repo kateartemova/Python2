
{
 "cells": [
  {
   "cell_type": "markdown",
   "id": "20595afc",
   "metadata": {},
   "source": [
    "# Задание на повторение материала"
   ]
  },
  {
   "cell_type": "markdown",
   "id": "96df4f3f",
   "metadata": {},
   "source": [
    "1. Создать одномерный массив Numpy под названием a из 12 последовательных целых чисел чисел от 12 до 24 невключительно"
   ]
  },
  {
   "cell_type": "code",
   "execution_count": 1,
   "id": "ea563157",
   "metadata": {},
   "outputs": [
    {
     "data": {
      "text/plain": [
       "array([12, 13, 14, 15, 16, 17, 18, 19, 20, 21, 22, 23])"
      ]
     },
     "execution_count": 1,
     "metadata": {},
     "output_type": "execute_result"
    }
   ],
   "source": [
    "import numpy as np\n",
    "a = np.arange(12, 24)\n",
    "a"
   ]
  },
  {
   "cell_type": "markdown",
   "id": "13ccbc29",
   "metadata": {},
   "source": [
    "2. Создать 5 двумерных массивов разной формы из массива a. Не использовать в аргументах метода reshape число -1."
   ]
  },
  {
   "cell_type": "code",
   "execution_count": 10,
   "id": "46de6130",
   "metadata": {},
   "outputs": [
    {
     "data": {
      "text/plain": [
       "array([[12, 13, 14, 15, 16, 17],\n",
       "       [18, 19, 20, 21, 22, 23]])"
      ]
     },
     "execution_count": 10,
     "metadata": {},
     "output_type": "execute_result"
    }
   ],
   "source": [
    "a1 = a.reshape(2, 6)\n",
    "a1"
   ]
  },
  {
   "cell_type": "code",
   "execution_count": 11,
   "id": "99880621",
   "metadata": {},
   "outputs": [
    {
     "data": {
      "text/plain": [
       "array([[12, 13, 14, 15],\n",
       "       [16, 17, 18, 19],\n",
       "       [20, 21, 22, 23]])"
      ]
     },
     "execution_count": 11,
     "metadata": {},
     "output_type": "execute_result"
    }
   ],
   "source": [
    "a2 = a.reshape(3, 4)\n",
    "a2"
   ]
  },
  {
   "cell_type": "code",
   "execution_count": 12,
   "id": "ce67b8ce",
   "metadata": {},
   "outputs": [
    {
     "data": {
      "text/plain": [
       "array([[12, 13, 14],\n",
       "       [15, 16, 17],\n",
       "       [18, 19, 20],\n",
       "       [21, 22, 23]])"
      ]
     },
     "execution_count": 12,
     "metadata": {},
     "output_type": "execute_result"
    }
   ],
   "source": [
    "a3 = a.reshape(4, 3)\n",
    "a3"
   ]
  },
  {
   "cell_type": "code",
   "execution_count": 13,
   "id": "665111ba",
   "metadata": {},
   "outputs": [
    {
     "data": {
      "text/plain": [
       "array([[12, 13],\n",
       "       [14, 15],\n",
       "       [16, 17],\n",
       "       [18, 19],\n",
       "       [20, 21],\n",
       "       [22, 23]])"
      ]
     },
     "execution_count": 13,
     "metadata": {},
     "output_type": "execute_result"
    }
   ],
   "source": [
    "a4 = a.reshape(6, 2)\n",
    "a4"
   ]
  },
  {
   "cell_type": "code",
   "execution_count": 14,
   "id": "08a37078",
   "metadata": {},
   "outputs": [
    {
     "data": {
      "text/plain": [
       "array([[12],\n",
       "       [13],\n",
       "       [14],\n",
       "       [15],\n",
       "       [16],\n",
       "       [17],\n",
       "       [18],\n",
       "       [19],\n",
       "       [20],\n",
       "       [21],\n",
       "       [22],\n",
       "       [23]])"
      ]
     },
     "execution_count": 14,
     "metadata": {},
     "output_type": "execute_result"
    }
   ],
   "source": [
    "a5 = a.reshape(12, 1)\n",
    "a5"
   ]
  },
  {
   "cell_type": "markdown",
   "id": "59815ed1",
   "metadata": {},
   "source": [
    "3. Создать 5 двумерных массивов разной формы из массива a. Использовать в аргументах метода reshape число -1 (в трех примерах - для обозначения числа столбцов, в двух - для строк)."
   ]
  },
  {
   "cell_type": "code",
   "execution_count": 15,
   "id": "eab6e856",
   "metadata": {},
   "outputs": [
    {
     "data": {
      "text/plain": [
       "array([[12, 13, 14, 15, 16, 17],\n",
       "       [18, 19, 20, 21, 22, 23]])"
      ]
     },
     "execution_count": 15,
     "metadata": {},
     "output_type": "execute_result"
    }
   ],
   "source": [
    "a1 = a.reshape(2, -1)\n",
    "a1"
   ]
  },
  {
   "cell_type": "code",
   "execution_count": 16,
   "id": "d30669c6",
   "metadata": {},
   "outputs": [
    {
     "data": {
      "text/plain": [
       "array([[12, 13, 14, 15],\n",
       "       [16, 17, 18, 19],\n",
       "       [20, 21, 22, 23]])"
      ]
     },
     "execution_count": 16,
     "metadata": {},
     "output_type": "execute_result"
    }
   ],
   "source": [
    "a2 = a.reshape(3, -1)\n",
    "a2"
   ]
  },
  {
   "cell_type": "code",
   "execution_count": 17,
   "id": "4083c627",
   "metadata": {},
   "outputs": [
    {
     "data": {
      "text/plain": [
       "array([[12, 13, 14],\n",
       "       [15, 16, 17],\n",
       "       [18, 19, 20],\n",
       "       [21, 22, 23]])"
      ]
     },
     "execution_count": 17,
     "metadata": {},
     "output_type": "execute_result"
    }
   ],
   "source": [
    "a3 = a.reshape(4, -1)\n",
    "a3"
   ]
  },
  {
   "cell_type": "code",
   "execution_count": 18,
   "id": "4865c0a8",
   "metadata": {},
   "outputs": [
    {
     "data": {
      "text/plain": [
       "array([[12, 13],\n",
       "       [14, 15],\n",
       "       [16, 17],\n",
       "       [18, 19],\n",
       "       [20, 21],\n",
       "       [22, 23]])"
      ]
     },
     "execution_count": 18,
     "metadata": {},
     "output_type": "execute_result"
    }
   ],
   "source": [
    "a4 = a.reshape(-1, 2)\n",
    "a4"
   ]
  },
  {
   "cell_type": "code",
   "execution_count": 19,
   "id": "73b2bf2b",
   "metadata": {},
   "outputs": [
    {
     "data": {
      "text/plain": [
       "array([[12],\n",
       "       [13],\n",
       "       [14],\n",
       "       [15],\n",
       "       [16],\n",
       "       [17],\n",
       "       [18],\n",
       "       [19],\n",
       "       [20],\n",
       "       [21],\n",
       "       [22],\n",
       "       [23]])"
      ]
     },
     "execution_count": 19,
     "metadata": {},
     "output_type": "execute_result"
    }
   ],
   "source": [
    "a5 = a.reshape(-1, 1)\n",
    "a5"
   ]
  },
  {
   "cell_type": "markdown",
   "id": "fab5a3b8",
   "metadata": {},
   "source": [
    "4. Можно ли массив Numpy, состоящий из одного столбца и 12 строк, назвать одномерным?"
   ]
  },
  {
   "cell_type": "code",
   "execution_count": 36,
   "id": "0dcbae40",
   "metadata": {},
   "outputs": [
    {
     "data": {
      "text/plain": [
       "2"
      ]
     },
     "execution_count": 36,
     "metadata": {},
     "output_type": "execute_result"
    }
   ],
   "source": [
    "a5.ndim"
   ]
  },
  {
   "cell_type": "markdown",
   "id": "97be6e2f",
   "metadata": {},
   "source": [
    "Нельзя, он двумерный"
   ]
  },
  {
   "cell_type": "markdown",
   "id": "10940547",
   "metadata": {},
   "source": [
    "5. Создать массив из 3 строк и 4 столбцов, состоящий из случайных чисел с плавающей запятой из нормального распределения со средним, равным 0 и среднеквадратичным отклонением, равным 1.0. Получить из этого массива одномерный массив с таким же атрибутом size, как и исходный массив."
   ]
  },
  {
   "cell_type": "code",
   "execution_count": 24,
   "id": "325c4e04",
   "metadata": {},
   "outputs": [
    {
     "name": "stdout",
     "output_type": "stream",
     "text": [
      "12\n",
      "12\n"
     ]
    },
    {
     "data": {
      "text/plain": [
       "array([ 1.41939143,  0.51142817,  0.53938411,  0.36448814, -1.18680847,\n",
       "        1.89329558, -1.02615459, -0.04926555,  0.37323275, -0.31061617,\n",
       "        0.90556851,  1.16795081])"
      ]
     },
     "execution_count": 24,
     "metadata": {},
     "output_type": "execute_result"
    }
   ],
   "source": [
    "a = np.random.randn(3, 4)\n",
    "print(a.size)\n",
    "a=a.flatten()\n",
    "print(a.size)\n",
    "a"
   ]
  },
  {
   "cell_type": "markdown",
   "id": "88fca6b2",
   "metadata": {},
   "source": [
    "6. Создать массив a, состоящий из целых чисел, убывающих от 20 до 0 невключительно с интервалом 2."
   ]
  },
  {
   "cell_type": "code",
   "execution_count": 31,
   "id": "a45ff851",
   "metadata": {},
   "outputs": [
    {
     "data": {
      "text/plain": [
       "array([20, 18, 16, 14, 12, 10,  8,  6,  4,  2])"
      ]
     },
     "execution_count": 31,
     "metadata": {},
     "output_type": "execute_result"
    }
   ],
   "source": [
    "a = np.arange(20, 0, -2)\n",
    "a"
   ]
  },
  {
   "cell_type": "markdown",
   "id": "4db6b3be",
   "metadata": {},
   "source": [
    "7. Создать массив b, состоящий из 1 строки и 10 столбцов: целых чисел, убывающих от 20 до 1 невключительно с интервалом 2. В чем разница между массивами a и b?"
   ]
  },
  {
   "cell_type": "code",
   "execution_count": 32,
   "id": "25200051",
   "metadata": {},
   "outputs": [
    {
     "data": {
      "text/plain": [
       "array([[20, 18, 16, 14, 12, 10,  8,  6,  4,  2]])"
      ]
     },
     "execution_count": 32,
     "metadata": {},
     "output_type": "execute_result"
    }
   ],
   "source": [
    "b = np.arange(20, 1, -2).reshape(1,10)\n",
    "b"
   ]
  },
  {
   "cell_type": "code",
   "execution_count": 37,
   "id": "5b56b04e",
   "metadata": {},
   "outputs": [
    {
     "data": {
      "text/plain": [
       "(1, 2)"
      ]
     },
     "execution_count": 37,
     "metadata": {},
     "output_type": "execute_result"
    }
   ],
   "source": [
    "a.ndim, b.ndim"
   ]
  },
  {
   "cell_type": "markdown",
   "id": "b9e57d8b",
   "metadata": {},
   "source": [
    "Массив a - одномерный, b - двумерный"
   ]
  },
  {
   "cell_type": "markdown",
   "id": "35649ac6",
   "metadata": {},
   "source": [
    "8. Вертикально соединить массивы a и b. a - двумерный массив из нулей, число строк которого больше 1 и на 1 меньше, чем число строк двумерного массива b, состоящего из единиц. Итоговый массив v должен иметь атрибут size, равный 10."
   ]
  },
  {
   "cell_type": "code",
   "execution_count": 38,
   "id": "e1ceda4e",
   "metadata": {},
   "outputs": [
    {
     "data": {
      "text/plain": [
       "array([[0., 0.],\n",
       "       [0., 0.]])"
      ]
     },
     "execution_count": 38,
     "metadata": {},
     "output_type": "execute_result"
    }
   ],
   "source": [
    "a = np.zeros((2, 2))\n",
    "a"
   ]
  },
  {
   "cell_type": "code",
   "execution_count": 39,
   "id": "d498d52f",
   "metadata": {},
   "outputs": [
    {
     "data": {
      "text/plain": [
       "array([[1., 1.],\n",
       "       [1., 1.],\n",
       "       [1., 1.]])"
      ]
     },
     "execution_count": 39,
     "metadata": {},
     "output_type": "execute_result"
    }
   ],
   "source": [
    "b = np.ones((3, 2))\n",
    "b"
   ]
  },
  {
   "cell_type": "code",
   "execution_count": 43,
   "id": "6adb9a0d",
   "metadata": {},
   "outputs": [
    {
     "data": {
      "text/plain": [
       "10"
      ]
     },
     "execution_count": 43,
     "metadata": {},
     "output_type": "execute_result"
    }
   ],
   "source": [
    "c = np.vstack((a, b))\n",
    "c.size"
   ]
  },
  {
   "cell_type": "markdown",
   "id": "af2cc72b",
   "metadata": {},
   "source": [
    "9. Создать одномерный массив а, состоящий из последовательности целых чисел от 0 до 12. Поменять форму этого массива, чтобы получилась матрица A (двумерный массив Numpy), состоящая из 4 строк и 3 столбцов. Получить матрицу At путем транспонирования матрицы A. Получить матрицу B, умножив матрицу A на матрицу At с помощью матричного умножения. Какой размер имеет матрица B? Получится ли вычислить обратную матрицу для матрицы B и почему?"
   ]
  },
  {
   "cell_type": "code",
   "execution_count": 45,
   "id": "2e0d2e25",
   "metadata": {},
   "outputs": [
    {
     "data": {
      "text/plain": [
       "array([ 0,  1,  2,  3,  4,  5,  6,  7,  8,  9, 10, 11])"
      ]
     },
     "execution_count": 45,
     "metadata": {},
     "output_type": "execute_result"
    }
   ],
   "source": [
    "a=np.arange(0, 12)\n",
    "a"
   ]
  },
  {
   "cell_type": "code",
   "execution_count": 47,
   "id": "dc2a9317",
   "metadata": {},
   "outputs": [
    {
     "data": {
      "text/plain": [
       "array([[ 0,  1,  2],\n",
       "       [ 3,  4,  5],\n",
       "       [ 6,  7,  8],\n",
       "       [ 9, 10, 11]])"
      ]
     },
     "execution_count": 47,
     "metadata": {},
     "output_type": "execute_result"
    }
   ],
   "source": [
    "A=a.reshape(4,3)\n",
    "A"
   ]
  },
  {
   "cell_type": "code",
   "execution_count": 48,
   "id": "fe81d276",
   "metadata": {},
   "outputs": [
    {
     "data": {
      "text/plain": [
       "array([[ 0,  3,  6,  9],\n",
       "       [ 1,  4,  7, 10],\n",
       "       [ 2,  5,  8, 11]])"
      ]
     },
     "execution_count": 48,
     "metadata": {},
     "output_type": "execute_result"
    }
   ],
   "source": [
    "At=A.T\n",
    "At"
   ]
  },
  {
   "cell_type": "code",
   "execution_count": 49,
   "id": "b8d3327c",
   "metadata": {},
   "outputs": [
    {
     "data": {
      "text/plain": [
       "array([[  5,  14,  23,  32],\n",
       "       [ 14,  50,  86, 122],\n",
       "       [ 23,  86, 149, 212],\n",
       "       [ 32, 122, 212, 302]])"
      ]
     },
     "execution_count": 49,
     "metadata": {},
     "output_type": "execute_result"
    }
   ],
   "source": [
    "B = np.dot(A, At)\n",
    "B"
   ]
  },
  {
   "cell_type": "code",
   "execution_count": 53,
   "id": "35e1794f",
   "metadata": {},
   "outputs": [
    {
     "data": {
      "text/plain": [
       "(4, 4)"
      ]
     },
     "execution_count": 53,
     "metadata": {},
     "output_type": "execute_result"
    }
   ],
   "source": [
    "B.shape"
   ]
  },
  {
   "cell_type": "code",
   "execution_count": 54,
   "id": "d054196e",
   "metadata": {},
   "outputs": [
    {
     "data": {
      "text/plain": [
       "0.0"
      ]
     },
     "execution_count": 54,
     "metadata": {},
     "output_type": "execute_result"
    }
   ],
   "source": [
    "np.linalg.det(B)"
   ]
  },
  {
   "cell_type": "markdown",
   "id": "92150e07",
   "metadata": {},
   "source": [
    "Нельзя, определитель матрицы равен 0"
   ]
  },
  {
   "cell_type": "markdown",
   "id": "52ee8ad7",
   "metadata": {},
   "source": [
    "10. Инициализируйте генератор случайных числе с помощью объекта seed, равного 42."
   ]
  },
  {
   "cell_type": "code",
   "execution_count": 55,
   "id": "800a01b9",
   "metadata": {},
   "outputs": [],
   "source": [
    "np.random.seed(42)"
   ]
  },
  {
   "cell_type": "markdown",
   "id": "41cbc8ce",
   "metadata": {},
   "source": [
    "11. Создайте одномерный массив c, составленный из последовательности 16-ти случайных равномерно распределенных целых чисел от 0 до 16 невключительно. "
   ]
  },
  {
   "cell_type": "code",
   "execution_count": 57,
   "id": "5ce7f2ac",
   "metadata": {},
   "outputs": [
    {
     "data": {
      "text/plain": [
       "array([ 6,  3, 12, 14, 10,  7, 12,  4,  6,  9,  2,  6, 10, 10,  7,  4])"
      ]
     },
     "execution_count": 57,
     "metadata": {},
     "output_type": "execute_result"
    }
   ],
   "source": [
    "c = np.random.randint(0, 16,16)\n",
    "c"
   ]
  },
  {
   "cell_type": "markdown",
   "id": "4603093a",
   "metadata": {},
   "source": [
    "12. Поменяйте его форму так, чтобы получилась квадратная матрица C. Получите матрицу D, поэлементно прибавив матрицу B из предыдущего вопроса к матрице C, умноженной на 10. Вычислите определитель, ранг и обратную матрицу D_inv для D."
   ]
  },
  {
   "cell_type": "code",
   "execution_count": 69,
   "id": "123f8f1d",
   "metadata": {},
   "outputs": [
    {
     "data": {
      "text/plain": [
       "array([[ 6,  3, 12, 14],\n",
       "       [10,  7, 12,  4],\n",
       "       [ 6,  9,  2,  6],\n",
       "       [10, 10,  7,  4]])"
      ]
     },
     "execution_count": 69,
     "metadata": {},
     "output_type": "execute_result"
    }
   ],
   "source": [
    "C = c.reshape(4, 4)\n",
    "C"
   ]
  },
  {
   "cell_type": "code",
   "execution_count": 60,
   "id": "87257795",
   "metadata": {},
   "outputs": [
    {
     "data": {
      "text/plain": [
       "array([[ 65,  44, 143, 172],\n",
       "       [114, 120, 206, 162],\n",
       "       [ 83, 176, 169, 272],\n",
       "       [132, 222, 282, 342]])"
      ]
     },
     "execution_count": 60,
     "metadata": {},
     "output_type": "execute_result"
    }
   ],
   "source": [
    "D = B + C * 10\n",
    "D"
   ]
  },
  {
   "cell_type": "code",
   "execution_count": 70,
   "id": "e1754804",
   "metadata": {},
   "outputs": [
    {
     "data": {
      "text/plain": [
       "-28511999.999999944"
      ]
     },
     "execution_count": 70,
     "metadata": {},
     "output_type": "execute_result"
    }
   ],
   "source": [
    "D_det = np.linalg.det(D)\n",
    "D_det"
   ]
  },
  {
   "cell_type": "code",
   "execution_count": 71,
   "id": "dae5ed36",
   "metadata": {},
   "outputs": [
    {
     "data": {
      "text/plain": [
       "4"
      ]
     },
     "execution_count": 71,
     "metadata": {},
     "output_type": "execute_result"
    }
   ],
   "source": [
    "D_rank = np.linalg.matrix_rank(D)\n",
    "D_rank"
   ]
  },
  {
   "cell_type": "code",
   "execution_count": 72,
   "id": "208782d8",
   "metadata": {},
   "outputs": [
    {
     "data": {
      "text/plain": [
       "array([[ 0.00935396,  0.04486532,  0.05897517, -0.07286055],\n",
       "       [-0.01503577, -0.00122896, -0.00192971,  0.00967873],\n",
       "       [-0.00356692, -0.01782828, -0.04152146,  0.04326178],\n",
       "       [ 0.00909091, -0.00181818,  0.01272727, -0.01090909]])"
      ]
     },
     "execution_count": 72,
     "metadata": {},
     "output_type": "execute_result"
    }
   ],
   "source": [
    "D_inv = np.linalg.inv(D)\n",
    "D_inv"
   ]
  },
  {
   "cell_type": "markdown",
   "id": "035f7d87",
   "metadata": {},
   "source": [
    "13. Приравняйте к нулю отрицательные числа в матрице D_inv, а положительные - к единице. Убедитесь, что в матрице D_inv остались только нули и единицы. С помощью функции numpy.where, используя матрицу D_inv в качестве маски, а матрицы B и C - в качестве источников данных, получите матрицу E размером 4x4.  Элементы матрицы E, для которых соответствующий элемент матрицы D_inv равен 1, должны быть равны соответствующему элементу матрицы B, а элементы матрицы E, для которых соответствующий элемент матрицы D_inv равен 0, должны быть равны соответствующему элементу матрицы C."
   ]
  },
  {
   "cell_type": "code",
   "execution_count": 74,
   "id": "0b5d9558",
   "metadata": {},
   "outputs": [
    {
     "data": {
      "text/plain": [
       "array([[1, 1, 1, 1],\n",
       "       [1, 1, 1, 1],\n",
       "       [1, 1, 1, 1],\n",
       "       [1, 1, 1, 1]])"
      ]
     },
     "execution_count": 74,
     "metadata": {},
     "output_type": "execute_result"
    }
   ],
   "source": [
    "D_inv = np.where(D_inv < 0, 0, 1)\n",
    "D_inv"
   ]
  },
  {
   "cell_type": "code",
   "execution_count": 75,
   "id": "100ceb39",
   "metadata": {},
   "outputs": [
    {
     "name": "stdout",
     "output_type": "stream",
     "text": [
      "[[  5  14  23  32]\n",
      " [ 14  50  86 122]\n",
      " [ 23  86 149 212]\n",
      " [ 32 122 212 302]]\n",
      "[[ 6  3 12 14]\n",
      " [10  7 12  4]\n",
      " [ 6  9  2  6]\n",
      " [10 10  7  4]]\n"
     ]
    },
    {
     "data": {
      "text/plain": [
       "array([[  5,  14,  23,  32],\n",
       "       [ 14,  50,  86, 122],\n",
       "       [ 23,  86, 149, 212],\n",
       "       [ 32, 122, 212, 302]])"
      ]
     },
     "execution_count": 75,
     "metadata": {},
     "output_type": "execute_result"
    }
   ],
   "source": [
    "print(B)\n",
    "print(C) \n",
    "E = np.where(D_inv == 1, B, C)\n",
    "E"
   ]
  }
 ],
 "metadata": {
  "kernelspec": {
   "display_name": "Python 3 (ipykernel)",
   "language": "python",
   "name": "python3"
  },
  "language_info": {
   "codemirror_mode": {
    "name": "ipython",
    "version": 3
   },
   "file_extension": ".py",
   "mimetype": "text/x-python",
   "name": "python",
   "nbconvert_exporter": "python",
   "pygments_lexer": "ipython3",
   "version": "3.9.7"
  }
 },
 "nbformat": 4,
 "nbformat_minor": 5
}
